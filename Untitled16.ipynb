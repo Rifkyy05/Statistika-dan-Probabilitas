{
  "metadata": {
    "kernelspec": {
      "name": "python",
      "display_name": "Python (Pyodide)",
      "language": "python"
    },
    "language_info": {
      "codemirror_mode": {
        "name": "python",
        "version": 3
      },
      "file_extension": ".py",
      "mimetype": "text/x-python",
      "name": "python",
      "nbconvert_exporter": "python",
      "pygments_lexer": "ipython3",
      "version": "3.8"
    }
  },
  "nbformat_minor": 5,
  "nbformat": 4,
  "cells": [
    {
      "id": "6bdf317a-031b-41fd-b554-715da8a46ced",
      "cell_type": "code",
      "source": "import numpy as np\nimport scipy.stats as stats\nimport matplotlib.pyplot as plt\nimport seaborn as sns\n\n# Parameter distribusi normal\nmean = 5  # Rata-rata\nstd_dev = 2  # Standar deviasi\n\n# 1. Visualisasi distribusi waktu pengiriman\nx = np.linspace(mean - 4*std_dev, mean + 4*std_dev, 1000)\ny = stats.norm.pdf(x, mean, std_dev)\n\nplt.figure(figsize=(10, 5))\nsns.lineplot(x=x, y=y, label='Distribusi Normal (mean=5, std=2)', color='blue')\nplt.xlabel('Waktu Pengiriman (hari)')\nplt.ylabel('Probabilitas')\nplt.title('Distribusi Waktu Pengiriman Paket')\nplt.legend()\nplt.grid()\nplt.show()\n\n# 2. Probabilitas bahwa paket dikirim dalam waktu kurang dari 3 hari\np_less_3 = stats.norm.cdf(3, mean, std_dev)\nprint(f'Probabilitas paket dikirim kurang dari 3 hari: {p_less_3:.4f}')\n\n# 3. Probabilitas bahwa paket dikirim dalam waktu antara 4 dan 7 hari\np_between_4_7 = stats.norm.cdf(7, mean, std_dev) - stats.norm.cdf(4, mean, std_dev)\nprint(f'Probabilitas paket dikirim antara 4 dan 7 hari: {p_between_4_7:.4f}')\n\n# 4. Visualisasi distribusi kumulatif\ncdf_y = stats.norm.cdf(x, mean, std_dev)\nplt.figure(figsize=(10, 5))\nsns.lineplot(x=x, y=cdf_y, label='Distribusi Kumulatif', color='red')\nplt.xlabel('Waktu Pengiriman (hari)')\nplt.ylabel('Probabilitas Kumulatif')\nplt.title('Kurva Distribusi Kumulatif')\nplt.legend()\nplt.grid()\nplt.show()\n",
      "metadata": {
        "trusted": true
      },
      "outputs": [
        {
          "name": "stderr",
          "output_type": "stream",
          "text": "Matplotlib is building the font cache; this may take a moment.\n"
        },
        {
          "ename": "<class 'ModuleNotFoundError'>",
          "evalue": "No module named 'seaborn'",
          "traceback": [
            "\u001b[0;31m---------------------------------------------------------------------------\u001b[0m",
            "\u001b[0;31mModuleNotFoundError\u001b[0m                       Traceback (most recent call last)",
            "Cell \u001b[0;32mIn[1], line 4\u001b[0m\n\u001b[1;32m      2\u001b[0m \u001b[38;5;28;01mimport\u001b[39;00m \u001b[38;5;21;01mscipy\u001b[39;00m\u001b[38;5;21;01m.\u001b[39;00m\u001b[38;5;21;01mstats\u001b[39;00m \u001b[38;5;28;01mas\u001b[39;00m \u001b[38;5;21;01mstats\u001b[39;00m\n\u001b[1;32m      3\u001b[0m \u001b[38;5;28;01mimport\u001b[39;00m \u001b[38;5;21;01mmatplotlib\u001b[39;00m\u001b[38;5;21;01m.\u001b[39;00m\u001b[38;5;21;01mpyplot\u001b[39;00m \u001b[38;5;28;01mas\u001b[39;00m \u001b[38;5;21;01mplt\u001b[39;00m\n\u001b[0;32m----> 4\u001b[0m \u001b[38;5;28;01mimport\u001b[39;00m \u001b[38;5;21;01mseaborn\u001b[39;00m \u001b[38;5;28;01mas\u001b[39;00m \u001b[38;5;21;01msns\u001b[39;00m\n\u001b[1;32m      6\u001b[0m \u001b[38;5;66;03m# Parameter distribusi normal\u001b[39;00m\n\u001b[1;32m      7\u001b[0m mean \u001b[38;5;241m=\u001b[39m \u001b[38;5;241m5\u001b[39m  \u001b[38;5;66;03m# Rata-rata\u001b[39;00m\n",
            "\u001b[0;31mModuleNotFoundError\u001b[0m: No module named 'seaborn'"
          ],
          "output_type": "error"
        }
      ],
      "execution_count": 1
    },
    {
      "id": "7a0551bb-d06c-45ae-bfc4-06371c8b0a21",
      "cell_type": "code",
      "source": "",
      "metadata": {
        "trusted": true
      },
      "outputs": [],
      "execution_count": null
    }
  ]
}